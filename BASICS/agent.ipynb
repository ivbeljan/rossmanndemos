{
 "cells": [
  {
   "cell_type": "code",
   "execution_count": 19,
   "metadata": {},
   "outputs": [],
   "source": [
    "from langchain.agents import AgentType, Tool, initialize_agent\n",
    "from langchain_openai.chat_models import ChatOpenAI\n",
    "from langchain.memory import ConversationBufferMemory\n",
    "from langchain.utilities.bing_search import BingSearchAPIWrapper\n",
    "from langchain.chains import LLMMathChain\n",
    "\n",
    "import os\n",
    "os.environ[\"BING_SUBSCRIPTION_KEY\"] = \"\"\n",
    "os.environ[\"BING_SEARCH_URL\"]=\"https://api.bing.microsoft.com/v7.0/search\""
   ]
  },
  {
   "cell_type": "code",
   "execution_count": 21,
   "metadata": {},
   "outputs": [],
   "source": [
    "llm = ChatOpenAI(\n",
    "    api_key=\"\",\n",
    "    model=\"gpt-3.5-turbo\",\n",
    "    temperature=0,\n",
    ")\n",
    "\n",
    "tools =[\n",
    "    Tool(\n",
    "        name=\"Web Search\",\n",
    "        func=BingSearchAPIWrapper().run,\n",
    "        description=\"useful when you need to answer spesific questions form internet\"\n",
    "    ),\n",
    "    Tool(\n",
    "        name=\"Math Calculator\",\n",
    "        func=LLMMathChain.from_llm(llm),\n",
    "        description=\"useful when you need to solve math problems or perform calculations\"\n",
    "    )\n",
    "]"
   ]
  },
  {
   "cell_type": "code",
   "execution_count": 22,
   "metadata": {},
   "outputs": [],
   "source": [
    "memory = ConversationBufferMemory(\n",
    "    memory_key=\"chat_history\",\n",
    "    return_messages=True,\n",
    "    output_key=\"output\"\n",
    ")"
   ]
  },
  {
   "cell_type": "code",
   "execution_count": 23,
   "metadata": {},
   "outputs": [],
   "source": [
    "agent = initialize_agent(\n",
    "    tools,\n",
    "    llm,\n",
    "    agent=AgentType.CHAT_CONVERSATIONAL_REACT_DESCRIPTION,\n",
    "    verbose=True,\n",
    "    memory=memory,\n",
    "    handle_parsing_errors=True\n",
    ")"
   ]
  },
  {
   "cell_type": "code",
   "execution_count": 24,
   "metadata": {},
   "outputs": [
    {
     "name": "stdout",
     "output_type": "stream",
     "text": [
      "\n",
      "\n",
      "\u001b[1m> Entering new AgentExecutor chain...\u001b[0m\n",
      "\u001b[32;1m\u001b[1;3m```json\n",
      "{\n",
      "    \"action\": \"Final Answer\",\n",
      "    \"action_input\": \"Hello Bob! How can I assist you today?\"\n",
      "}\n",
      "```\u001b[0m\n",
      "\n",
      "\u001b[1m> Finished chain.\u001b[0m\n"
     ]
    },
    {
     "data": {
      "text/plain": [
       "{'input': 'Hi, I am Bob',\n",
       " 'chat_history': [HumanMessage(content='Hi, I am Bob'),\n",
       "  AIMessage(content='Hello Bob! How can I assist you today?')],\n",
       " 'output': 'Hello Bob! How can I assist you today?'}"
      ]
     },
     "execution_count": 24,
     "metadata": {},
     "output_type": "execute_result"
    }
   ],
   "source": [
    "agent.invoke({\"input\":\"Hi, I am Bob\"})"
   ]
  },
  {
   "cell_type": "code",
   "execution_count": 25,
   "metadata": {},
   "outputs": [
    {
     "name": "stdout",
     "output_type": "stream",
     "text": [
      "\n",
      "\n",
      "\u001b[1m> Entering new AgentExecutor chain...\u001b[0m\n",
      "\u001b[32;1m\u001b[1;3m```json\n",
      "{\n",
      "    \"action\": \"Final Answer\",\n",
      "    \"action_input\": \"Your name is Bob.\"\n",
      "}\n",
      "```\u001b[0m\n",
      "\n",
      "\u001b[1m> Finished chain.\u001b[0m\n"
     ]
    },
    {
     "data": {
      "text/plain": [
       "{'input': 'What is my name?',\n",
       " 'chat_history': [HumanMessage(content='Hi, I am Bob'),\n",
       "  AIMessage(content='Hello Bob! How can I assist you today?'),\n",
       "  HumanMessage(content='What is my name?'),\n",
       "  AIMessage(content='Your name is Bob.')],\n",
       " 'output': 'Your name is Bob.'}"
      ]
     },
     "execution_count": 25,
     "metadata": {},
     "output_type": "execute_result"
    }
   ],
   "source": [
    "agent.invoke({\"input\":\"What is my name?\"})"
   ]
  },
  {
   "cell_type": "code",
   "execution_count": 26,
   "metadata": {},
   "outputs": [
    {
     "name": "stdout",
     "output_type": "stream",
     "text": [
      "\n",
      "\n",
      "\u001b[1m> Entering new AgentExecutor chain...\u001b[0m\n",
      "\u001b[32;1m\u001b[1;3m```json\n",
      "{\n",
      "    \"action\": \"Web Search\",\n",
      "    \"action_input\": \"CEO of Linkedin in 2023\"\n",
      "}\n",
      "```\u001b[0m\n",
      "Observation: \u001b[36;1m\u001b[1;3mRyan Roslansky became the <b>CEO</b> <b>of LinkedIn</b> weeks before the COVID-19 pandemic broke out. Ore Huiying—Bloomberg/Getty Images. “When the sea was calm, all ships alike showed mastership in... <b>LinkedIn</b> <b>CEO</b> Ryan Roslansky at Talent Connect <b>2023</b>. Ryan Roslansky (born December 4, 1977, in South Lake Tahoe, California) is an American entrepreneur. He is the <b>chief executive officer</b> (<b>CEO</b>) <b>of LinkedIn</b>, a business-related social networking website, since June 2020 stepping up from his previous position as Senior Vice President. A message from our <b><b>CE</b>O</b>. Published on May 8<b>, <b>2</b>023</b> Categories: n<b>ews.<b>lin</b>kedin</b><b>.com , C</b>ompany <b>News. <b>Li</b>nkedIn</b> Corporate Communications. Share. To<b>day o</b>ur <b>CEO</b> shared changes to our Global... Here is a compilation of the top CEOs in Malaysia to follow <b>in 2023</b>. I have handpicked these based on the frequency of posting, engagement with the community, company size and followers in no... REDEFINING WORK. Ryan Roslansky. <b>CEO</b> at <b>LinkedIn</b>. Published Aug 15, <b>2023</b>. + Follow. As the <b>CEO</b> <b>of LinkedIn</b>, I think a lot about how to connect the world’s professionals to help them... Ryan Roslansky Bio. <b>Chief Executive Officer</b>. Ryan Roslansky is the <b>CEO</b> <b>of LinkedIn</b>, the world’s largest and most powerful network of professionals. Ryan joined the company in May 2009 and... Chairman and <b>CEO</b> at Microsoft. Published Oct 19, <b>2023</b>. + Follow. Below is my annual letter, published today in our Annual Report <b>2023</b>. Dear shareholders, colleagues, customers, and partners,... Ryan Roslansky’s <b>LinkedIn</b> page lists 46 skills, from product management to problem solving. But none fully prepared him to run the networking site for professionals when he took over as <b>chief</b>... Subscribe. 825. Share. 36K views 8 months ago #HarvardBusinessReview #<b>LinkedIn</b> #NewWorldofWork. The <b>CEO</b> of the world’s largest professional network talks about what the future of work — and the... Melissa Snover. Raphael Sofoluke. Talifhani Banks. Mitch Jacobsen. Michelle De Leon. Sharon Hurley Hall. Lisa Hurley. Patricia López Trabajo. Leila Hurstel. Zeneca Z. George Rawlings. Magnus Grimeland. George Imafidon. Sue Fennessy. Avrum Elmakis. Christian Wylonis is the <b>CEO</b> and Cofounder of The Org.\u001b[0m\n",
      "Thought:\u001b[32;1m\u001b[1;3m```json\n",
      "{\n",
      "    \"action\": \"Final Answer\",\n",
      "    \"action_input\": \"Ryan Roslansky is the CEO of LinkedIn in 2023.\"\n",
      "}\n",
      "```\u001b[0m\n",
      "\n",
      "\u001b[1m> Finished chain.\u001b[0m\n"
     ]
    },
    {
     "data": {
      "text/plain": [
       "{'input': 'Who is the CEO of Linkedin in 2023?',\n",
       " 'chat_history': [HumanMessage(content='Hi, I am Bob'),\n",
       "  AIMessage(content='Hello Bob! How can I assist you today?'),\n",
       "  HumanMessage(content='What is my name?'),\n",
       "  AIMessage(content='Your name is Bob.'),\n",
       "  HumanMessage(content='Who is the CEO of Linkedin in 2023?'),\n",
       "  AIMessage(content='Ryan Roslansky is the CEO of LinkedIn in 2023.')],\n",
       " 'output': 'Ryan Roslansky is the CEO of LinkedIn in 2023.'}"
      ]
     },
     "execution_count": 26,
     "metadata": {},
     "output_type": "execute_result"
    }
   ],
   "source": [
    "agent.invoke({\"input\":\"Who is the CEO of Linkedin in 2023?\"})"
   ]
  },
  {
   "cell_type": "code",
   "execution_count": 27,
   "metadata": {},
   "outputs": [
    {
     "name": "stdout",
     "output_type": "stream",
     "text": [
      "\n",
      "\n",
      "\u001b[1m> Entering new AgentExecutor chain...\u001b[0m\n",
      "\u001b[32;1m\u001b[1;3m```json\n",
      "{\n",
      "    \"action\": \"Math Calculator\",\n",
      "    \"action_input\": \"2*(2+5) - 7\"\n",
      "}\n",
      "```\u001b[0m\n",
      "Observation: \u001b[33;1m\u001b[1;3m{'question': '2*(2+5) - 7', 'answer': 'Answer: 7'}\u001b[0m\n",
      "Thought:\u001b[32;1m\u001b[1;3m```json\n",
      "{\n",
      "    \"action\": \"Final Answer\",\n",
      "    \"action_input\": \"The answer to the expression 2*(2+5) - 7 is 7.\"\n",
      "}\n",
      "```\u001b[0m\n",
      "\n",
      "\u001b[1m> Finished chain.\u001b[0m\n"
     ]
    },
    {
     "data": {
      "text/plain": [
       "{'input': 'What is 2*(2+5) - 7?',\n",
       " 'chat_history': [HumanMessage(content='Hi, I am Bob'),\n",
       "  AIMessage(content='Hello Bob! How can I assist you today?'),\n",
       "  HumanMessage(content='What is my name?'),\n",
       "  AIMessage(content='Your name is Bob.'),\n",
       "  HumanMessage(content='Who is the CEO of Linkedin in 2023?'),\n",
       "  AIMessage(content='Ryan Roslansky is the CEO of LinkedIn in 2023.'),\n",
       "  HumanMessage(content='What is 2*(2+5) - 7?'),\n",
       "  AIMessage(content='The answer to the expression 2*(2+5) - 7 is 7.')],\n",
       " 'output': 'The answer to the expression 2*(2+5) - 7 is 7.'}"
      ]
     },
     "execution_count": 27,
     "metadata": {},
     "output_type": "execute_result"
    }
   ],
   "source": [
    "agent.invoke({\"input\":\"What is 2*(2+5) - 7?\"})"
   ]
  }
 ],
 "metadata": {
  "kernelspec": {
   "display_name": ".venv",
   "language": "python",
   "name": "python3"
  },
  "language_info": {
   "codemirror_mode": {
    "name": "ipython",
    "version": 3
   },
   "file_extension": ".py",
   "mimetype": "text/x-python",
   "name": "python",
   "nbconvert_exporter": "python",
   "pygments_lexer": "ipython3",
   "version": "3.11.4"
  }
 },
 "nbformat": 4,
 "nbformat_minor": 2
}
